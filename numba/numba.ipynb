{
 "cells": [
  {
   "cell_type": "markdown",
   "metadata": {},
   "source": [
    "# Introduction\n",
    "\n",
    "The major weakness of interpreted languages such as python is its speed.\n",
    "Numba translates python functions into optimized machine code, achieving  speeds\n",
    "close to compiled C, java, or Fortran. We will begin with converting a simple\n",
    "function into numba and record the speedup. You will then be responsible for \n",
    "converting a non-linear convection code to Numba and report tbe speedup."
   ]
  },
  {
   "cell_type": "markdown",
   "metadata": {},
   "source": [
    "# Numba basics\n",
    "\n",
    "Compilers convert human. readable code (like you write in python) to optimized machine code.\n",
    "The way compilers work is beyond the scope of this lab but here is analogy. You want to go from your\n",
    "home to the grocery store and pickup 10 items tommrow.  You can think of this as two functions *goToStore(storeLoc,meansOfTransport)* and\n",
    "*getItems(listofItems)* The compiled language approach is you know the traffic at the time you will leave, \n",
    "choose the best route and best means of transport, and think of the best way through the store to get all your \n",
    "items for tomorrow's trip.  Your pre-plan this route.  The equivalent interpreted language approach is you choose your means of transport, start heading to the store. Every X meters you stop, reevaluate your means of transport, and go X meters. Once at the store you get the items in the order they are listed. Obviously the compiled approach will be much faster.\n",
    "\n",
    "With the introduction of java a third paradigm was introduced, Just-In-Time (JIT) compiling. Continuing the analogy, when you are about to head to the store you pick the best path based on information and go the store. Once you go to the store you calculate the best way through given your items.  This will be slightly slower than the compiled approach on the day of the trip because you have the time it takes to decide the path to the store, and through the store, but it will be significantly faster than the X meter approach.\n",
    "\n",
    "To demonstrate how to use Numba lets imagine you want to calculate the statistics of a bunch of numbers. We are going to approach this problem in three different ways. Using lists, using numpy arrays, and then using numpy arrays with numba.\n",
    "\n",
    "We will begin by creating an array of enough numbers that our times will be meaningful.\n"
   ]
  },
  {
   "cell_type": "code",
   "execution_count": 1,
   "metadata": {},
   "outputs": [
    {
     "name": "stdout",
     "output_type": "stream",
     "text": [
      "CPU times: user 3.33 s, sys: 1.15 s, total: 4.47 s\n",
      "Wall time: 4.63 s\n"
     ]
    }
   ],
   "source": [
    "%%time\n",
    "import numpy\n",
    "sz=100000000\n",
    "randomFloat=numpy.random.uniform(-1,1,sz)\n",
    "randomList=randomFloat.tolist()"
   ]
  },
  {
   "cell_type": "markdown",
   "metadata": {},
   "source": [
    "We will then define a simple function that calculates the min, max, and average."
   ]
  },
  {
   "cell_type": "code",
   "execution_count": 7,
   "metadata": {},
   "outputs": [],
   "source": [
    "def calcStats(list,nsz):\n",
    "    mn=list[0]\n",
    "    mx=list[0]\n",
    "    sm=0\n",
    "    for i in range(nsz):\n",
    "        if mn > list[i]:\n",
    "            mn=list[i]\n",
    "        if mx < list[i]:\n",
    "            mx=list[i]\n",
    "        sm=sm+list[i]\n",
    "    return mn, mx, sm/nsz"
   ]
  },
  {
   "cell_type": "raw",
   "metadata": {},
   "source": [
    "We can write that same function in Numba. Note how we've just imported numba and then put a decorator on the same function as above."
   ]
  },
  {
   "cell_type": "code",
   "execution_count": 8,
   "metadata": {},
   "outputs": [],
   "source": [
    "import numba\n",
    "@numba.jit(nopython=True)\n",
    "def calcStatsN(list,nsz):\n",
    " \n",
    "    mn=float(list[0])\n",
    "    mx=float(list[0])\n",
    "    sm=0.0\n",
    "    for i in range(nsz):\n",
    "        if mn > list[i]:\n",
    "            mn=list[i]\n",
    "        if mx < list[i]:\n",
    "            mx=list[i]\n",
    "        sm=sm+list[i]\n",
    "    return mn, mx, sm/nsz"
   ]
  },
  {
   "cell_type": "markdown",
   "metadata": {},
   "source": [
    "We will use cell magics to calculate the time to calculate the statistics on the list."
   ]
  },
  {
   "cell_type": "code",
   "execution_count": 9,
   "metadata": {},
   "outputs": [
    {
     "name": "stdout",
     "output_type": "stream",
     "text": [
      "(-0.9999999983045678, 0.9999999805567168, -3.2712815674803364e-05)\n",
      "CPU times: user 14.1 s, sys: 121 ms, total: 14.2 s\n",
      "Wall time: 14.3 s\n"
     ]
    }
   ],
   "source": [
    "%%time\n",
    "print(calcStats(randomList,sz))"
   ]
  },
  {
   "cell_type": "markdown",
   "metadata": {},
   "source": [
    "We can use the same function on the numpy array."
   ]
  },
  {
   "cell_type": "code",
   "execution_count": 10,
   "metadata": {},
   "outputs": [
    {
     "name": "stdout",
     "output_type": "stream",
     "text": [
      "(-0.9999999983045678, 0.9999999805567168, -3.2712815674803364e-05)\n",
      "CPU times: user 55.6 s, sys: 114 ms, total: 55.7 s\n",
      "Wall time: 55.8 s\n"
     ]
    }
   ],
   "source": [
    "%%time\n",
    "print(calcStats(randomFloat,sz))"
   ]
  },
  {
   "cell_type": "markdown",
   "metadata": {},
   "source": [
    "The result might be surprising, and disturbing. The numpy array was not significantly faster and maybe significantly slower. Numpy is useful mainly because most of its functions are really written in compiled languages to gain speed.\n",
    "\n",
    "Now if we time the numba version of the function..."
   ]
  },
  {
   "cell_type": "code",
   "execution_count": 15,
   "metadata": {},
   "outputs": [
    {
     "name": "stdout",
     "output_type": "stream",
     "text": [
      "(-0.9999999983045678, 0.9999999805567168, -3.2712815674803364e-05)\n",
      "(-0.9999999983045678, 0.9999999805567168, -3.2712815674803364e-05)\n",
      "(-0.9999999983045678, 0.9999999805567168, -3.2712815674803364e-05)\n",
      "(-0.9999999983045678, 0.9999999805567168, -3.2712815674803364e-05)\n",
      "(-0.9999999983045678, 0.9999999805567168, -3.2712815674803364e-05)\n",
      "(-0.9999999983045678, 0.9999999805567168, -3.2712815674803364e-05)\n",
      "(-0.9999999983045678, 0.9999999805567168, -3.2712815674803364e-05)\n",
      "(-0.9999999983045678, 0.9999999805567168, -3.2712815674803364e-05)\n",
      "(-0.9999999983045678, 0.9999999805567168, -3.2712815674803364e-05)\n",
      "(-0.9999999983045678, 0.9999999805567168, -3.2712815674803364e-05)\n",
      "CPU times: user 1.36 s, sys: 27.3 ms, total: 1.39 s\n",
      "Wall time: 1.44 s\n"
     ]
    }
   ],
   "source": [
    "%%time\n",
    "for i in range(10):\n",
    "    print(calcStatsN(randomFloat,sz))"
   ]
  },
  {
   "cell_type": "markdown",
   "metadata": {},
   "source": [
    "You should note a significant speed up. In my test the numba version was ten times faster to run the cell, and 100 times faster to run the function."
   ]
  },
  {
   "cell_type": "markdown",
   "metadata": {},
   "source": [
    "# Non-linear convection\n",
    "\n",
    "The following is borrowefd from https://lorenabarba.com/blog/cfd-python-12-steps-to-navier-stokes/ with minor changes to increase computational time."
   ]
  },
  {
   "cell_type": "markdown",
   "metadata": {},
   "source": [
    "## Linear convection\n",
    "The 1-D Linear Convection equation is the simplest, most basic model that can be used to learn something about CFD. It is surprising that this little equation can teach us so much! Here it is:\n",
    "\n",
    "$$\\frac{\\partial u}{\\partial t} + c \\frac{\\partial u}{\\partial x} = 0$$\n",
    "\n",
    "With given initial conditions (understood as a *wave*), the equation represents the propagation of that initial *wave* with speed $c$, without change of shape. Let the initial condition be $u(x,0)=u_0(x)$. Then the exact solution of the equation is $u(x,t)=u_0(x-ct)$.\n",
    "\n",
    "We discretize this equation in both space and time, using the Forward Difference scheme for the time derivative and the Backward Difference scheme for the space derivative. Consider discretizing the spatial coordinate $x$ into points that we index from $i=0$ to $N$, and stepping in discrete time intervals of size $\\Delta t$.\n",
    "\n",
    "From the definition of a derivative (and simply removing the limit), we know that:\n",
    "\n",
    "$$\\frac{\\partial u}{\\partial x}\\approx \\frac{u(x+\\Delta x)-u(x)}{\\Delta x}$$\n",
    "\n",
    "Our discrete equation, then, is:\n",
    "\n",
    "$$\\frac{u_i^{n+1}-u_i^n}{\\Delta t} + c \\frac{u_i^n - u_{i-1}^n}{\\Delta x} = 0 $$\n",
    "\n",
    "Where $n$ and $n+1$ are two consecutive steps in time, while $i-1$ and $i$ are two neighboring points of the discretized $x$ coordinate. If there are given initial conditions, then the only unknown in this discretization is $u_i^{n+1}$.  We can solve for our unknown to get an equation that allows us to advance in time, as follows:\n",
    "\n",
    "$$u_i^{n+1} = u_i^n - c \\frac{\\Delta t}{\\Delta x}(u_i^n-u_{i-1}^n)$$\n",
    "\n",
    "Now let's try implementing this in Python.  \n",
    "\n",
    "We'll start by importing a few libraries to help us out.\n",
    "\n",
    "* `numpy` is a library that provides a bunch of useful matrix operations akin to MATLAB\n",
    "* `matplotlib` is a 2D plotting library that we will use to plot our results\n",
    "* `time` and `sys` provide basic timing functions that we'll use to slow down animations for viewing"
   ]
  },
  {
   "cell_type": "code",
   "execution_count": null,
   "metadata": {},
   "outputs": [],
   "source": []
  },
  {
   "cell_type": "code",
   "execution_count": 16,
   "metadata": {},
   "outputs": [],
   "source": [
    "# Remember: comments in python are denoted by the pound sign\n",
    "import numpy                       #here we load numpy\n",
    "from matplotlib import pyplot      #here we load matplotlib\n",
    "import time, sys                   #and load some utilities\n",
    "#this makes matplotlib plots appear in the notebook (instead of a separate window)\n",
    "%matplotlib inline  "
   ]
  },
  {
   "cell_type": "markdown",
   "metadata": {},
   "source": [
    "Now let's define a few variables; we want to define an evenly spaced grid of points within a spatial domain that is 2 units of length wide, i.e., $x_i\\in(0,2)$.  We'll define a variable `nx`, which will be the number of grid points we want and `dx` will be the distance between any pair of adjacent grid points.  "
   ]
  },
  {
   "cell_type": "code",
   "execution_count": 99,
   "metadata": {},
   "outputs": [],
   "source": [
    "nx = 8100  # try changing this number from 41 to 81 and Run All ... what happens?\n",
    "dx = 4 / (nx-1)\n",
    "nt = 5000    #nt is the number of timesteps we want to calculate\n",
    "dt = .001  #dt is the amount of time each timestep covers (delta t)\n",
    "c = .3      #assume wavespeed of c = .3"
   ]
  },
  {
   "cell_type": "markdown",
   "metadata": {},
   "source": [
    "We also need to set up our initial conditions. The initial velocity $u_0$ is given as \n",
    "$u = 2$ in the interval $0.5 \\leq x \\leq 1$  and $u = 1$ everywhere else in $(0,2)$ (i.e., a hat function).\n",
    "\n",
    "Here, we use the function `ones()` defining a `numpy` array which is `nx` elements long with every value equal to 1."
   ]
  },
  {
   "cell_type": "code",
   "execution_count": 100,
   "metadata": {},
   "outputs": [],
   "source": [
    "u = numpy.ones(nx)      #numpy function ones()\n",
    "u[int(.5 / dx):int(1 / dx + 1)] = 2  #setting u = 2 between 0.5 and 1 as per our I.C.s\n"
   ]
  },
  {
   "cell_type": "markdown",
   "metadata": {},
   "source": [
    "Now let's take a look at those initial conditions using a Matplotlib plot. We've imported the matplotlib plotting library pyplot and the plotting function is called plot, so we'll call pyplot.plot. To learn about the myriad possibilities of Matplotlib, explore the Gallery of example plots.\n",
    "\n",
    "Here, we use the syntax for a simple 2D plot: plot(x,y), where the x values are evenly distributed grid points:"
   ]
  },
  {
   "cell_type": "code",
   "execution_count": 101,
   "metadata": {},
   "outputs": [
    {
     "data": {
      "image/png": "[encoded data removed]",
      "text/plain": [
       "<Figure size 432x288 with 1 Axes>"
      ]
     },
     "metadata": {
      "needs_background": "light"
     },
     "output_type": "display_data"
    }
   ],
   "source": [
    "pyplot.plot(numpy.linspace(0, 2, nx), u);"
   ]
  },
  {
   "cell_type": "markdown",
   "metadata": {},
   "source": [
    "Now it's time to implement the discretization of the convection equation using a finite-difference scheme.  \n",
    "\n",
    "For every element of our array `u`, we need to perform the operation $u_i^{n+1} = u_i^n - c \\frac{\\Delta t}{\\Delta x}(u_i^n-u_{i-1}^n)$\n",
    "\n",
    "We'll store the result in a new (temporary) array `un`, which will be the solution $u$ for the next time-step.  We will repeat this operation for as many time-steps as we specify and then we can see how far the wave has convected.  \n",
    "\n",
    "We first initialize our placeholder array `un` to hold the values we calculate for the $n+1$ timestep, using once again the NumPy function `ones()`.\n",
    "\n",
    "Then, we may think we have two iterative operations: one in space and one in time (we'll learn differently later), so we'll start by nesting one loop inside the other. Note the use of the nifty `range()` function. When we write: `for i in range(1,nx)` we will iterate through the `u` array, but we'll be skipping the first element (the zero-th element).  *Why?*"
   ]
  },
  {
   "cell_type": "code",
   "execution_count": 102,
   "metadata": {},
   "outputs": [],
   "source": [
    "un = numpy.ones(nx) #initialize a temporary array\n",
    "\n",
    "for n in range(nt):  #loop for values of n from 0 to nt, so it will run nt times\n",
    "    un = u.copy() ##copy the existing values of u into un\n",
    "    for i in range(1, nx): ## you can try commenting this line and...\n",
    "    #for i in range(nx): ## ... uncommenting this line and see what happens!\n",
    "        u[i] = un[i] - c * dt / dx * (un[i] - un[i-1])\n",
    "        \n",
    "        "
   ]
  },
  {
   "cell_type": "code",
   "execution_count": 103,
   "metadata": {},
   "outputs": [
    {
     "data": {
      "image/png": "[encoded data removed]",
      "text/plain": [
       "<Figure size 432x288 with 1 Axes>"
      ]
     },
     "metadata": {
      "needs_background": "light"
     },
     "output_type": "display_data"
    }
   ],
   "source": [
    "pyplot.plot(numpy.linspace(0, 2, nx), u);"
   ]
  },
  {
   "cell_type": "code",
   "execution_count": null,
   "metadata": {},
   "outputs": [],
   "source": []
  },
  {
   "cell_type": "code",
   "execution_count": null,
   "metadata": {},
   "outputs": [],
   "source": []
  }
 ],
 "metadata": {
  "kernelspec": {
   "display_name": "Python 3",
   "language": "python",
   "name": "python3"
  },
  "language_info": {
   "codemirror_mode": {
    "name": "ipython",
    "version": 3
   },
   "file_extension": ".py",
   "mimetype": "text/x-python",
   "name": "python",
   "nbconvert_exporter": "python",
   "pygments_lexer": "ipython3",
   "version": "3.7.4"
  },
  "latex_envs": {
   "LaTeX_envs_menu_present": true,
   "autoclose": false,
   "autocomplete": true,
   "bibliofile": "biblio.bib",
   "cite_by": "apalike",
   "current_citInitial": 1,
   "eqLabelWithNumbers": true,
   "eqNumInitial": 1,
   "hotkeys": {
    "equation": "Ctrl-E",
    "itemize": "Ctrl-I"
   },
   "labels_anchors": false,
   "latex_user_defs": false,
   "report_style_numbering": false,
   "user_envs_cfg": false
  },
  "toc": {
   "base_numbering": 1,
   "nav_menu": {},
   "number_sections": true,
   "sideBar": true,
   "skip_h1_title": false,
   "title_cell": "Table of Contents",
   "title_sidebar": "Contents",
   "toc_cell": false,
   "toc_position": {},
   "toc_section_display": true,
   "toc_window_display": false
  }
 },
 "nbformat": 4,
 "nbformat_minor": 2
}
