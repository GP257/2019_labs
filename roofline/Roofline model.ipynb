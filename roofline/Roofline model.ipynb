{
 "cells": [
  {
   "cell_type": "markdown",
   "metadata": {},
   "source": [
    "# Roofline model\n",
    "\n",
    "The [roofline model](https://en.wikipedia.org/wiki/Roofline_model) is a relatively new idea on how to evaluate the performance of an alogithm. Assuming a simplistic view of a CPU, all algorithms are constrained either by bandwidth-to-memory or floating-point operations per second (FLOPS). We can plot both of these limits on the same plot by multiplying bandwidth by operational intensity. Operational intensity is the number of bytes that are read from memory per floating-point operation. In the next cell, you can plot the roofline model for the node you are running on for this lab."
   ]
  },
  {
   "cell_type": "code",
   "execution_count": null,
   "metadata": {},
   "outputs": [],
   "source": [
    "%matplotlib inline\n",
    "\n",
    "import numpy\n",
    "import math\n",
    "import matplotlib.pyplot as plt\n",
    "\n",
    "ops = numpy.empty([7])\n",
    "bandwidth = numpy.empty([7])\n",
    "flops = numpy.empty([7])\n",
    "\n",
    "for i in range(7):\n",
    "    ops[i] = math.pow(2, i - 3)\n",
    "    bandwidth[i] = ops[i] * 11.000\n",
    "    flops[i] = 2.300\n",
    "    \n",
    "plt.loglog(ops, bandwidth, basex=2, basey=2)\n",
    "plt.loglog(ops, flops, basex=2, basey=2)\n",
    "plt.xlabel(\"Operational intensity\")\n",
    "plt.ylabel(\"GFLOPS\")\n",
    "plt.legend((\"Bandwidth * Operational Intensity\", \"Floating point operations\"))"
   ]
  },
  {
   "cell_type": "markdown",
   "metadata": {},
   "source": [
    "Notice that the cross-over point is around $\\frac{1}{4}$.  This is actually far from accurate because our simplified view does not account for the parallelism available on the machine along with the different memory levels of the chip.\n",
    "\n",
    "## Part 1: Calculating operational intensity\n",
    "\n",
    "In this lab we will be solving the heat equation using an explicit scheme.  Our implicit equation for updating the heat $H$ by  $\\Delta t$ at a given $x$ and $y$ with some conductivity $c$ is:\n",
    "\n",
    "\n",
    "\\begin{equation}\n",
    "\\frac{H(x,y,t+1)-H(x,y,t)}{\\Delta t} = c(x,y)\\left(\\frac{2*H(x,y,t)-H(x-1,y,t)-H(x+1,y,t)}{\\Delta x^2} \n",
    "+ \\frac{2*H(x,y,t)-H(x,y+1,t)-H(x,y-1,t)}{\\Delta y^2} \\right).\n",
    "\\end{equation}\n",
    "\n",
    "\n",
    "With equal spacing in $x$ and $y$ we can set:\n",
    "\n",
    "\n",
    "\\begin{equation}\n",
    "d(x,y)=\\frac{c(x,y)*\\Delta t}{\\Delta x^2},\n",
    "\\end{equation}\n",
    "\n",
    "\n",
    "which simplifies our updating scheme to:\n",
    "\n",
    "\n",
    "\\begin{equation}\n",
    "H(x,y,t+1)= d(x,y) \\left(4*H(x,y,t)-H(x-1,y,t)-H(x+1,y,t) -H(x,y+1,t)-H(x,y-1,t) \\right) +  H(x,y,t) .\n",
    "\\end{equation}\n",
    "\n",
    "\n",
    "One of the dumbest ways we can solve this problem is to make a matrix $m$ of dimensions $(nx,ny,nx,ny)$, and then fill it with zeros at every location except at the five points on the right-hand side of the above equation. The advantage of this approach is that it leads to a pretty simple updating algorithm to caculate algorithmic intensity.  Below is a Pythonized version of this update rule."
   ]
  },
  {
   "cell_type": "code",
   "execution_count": null,
   "metadata": {},
   "outputs": [],
   "source": [
    "def update(sout, sin, m):\n",
    "    for iyo in range(sout.shape[0]):\n",
    "        for ixo in range(sout.shape[1]):\n",
    "            sout[iyo,ixo] = sin[iyo,ixo] #previous value\n",
    "            for iyi in range(sout.shape[0]):\n",
    "                for ixi in range(sout.shape[1]):\n",
    "                    sout[iyo,ixo] += sin[iyi,ixi] * m[iyo,ixo,iyi,ixi]"
   ]
  },
  {
   "cell_type": "markdown",
   "metadata": {},
   "source": [
    "Assuming $nx$ and $ny$ are large enough, all we need to do is assess the inner-most line in the loop.  In this case we are doing two multiplications and an addition, so a total of three floating-point operations.  At each location we are reading two floats (so eight bytes).  So our operational intensity is $I=\\frac{3}{8}$. In terms of operational intensity this approach isn't terrible. The problem is the total number of operations we are doing. Each time step involves $n1*n1*n2*n2*3$ operations, the vast majority of which are just zeros. Below is a C++ implementation."
   ]
  },
  {
   "cell_type": "code",
   "execution_count": null,
   "metadata": {},
   "outputs": [],
   "source": [
    "%%writefile src/lib/heat.cc\n",
    "#include \"heat.h\"\n",
    "#include <stdlib.h>\n",
    "#include <time.h>\n",
    "#include <iostream>\n",
    "\n",
    "void heatEq::allocFill(const std::shared_ptr<float2DReg> in) {\n",
    "  _n1 = in->getHyper()->getAxis(1).n;\n",
    "  _n2 = in->getHyper()->getAxis(2).n;\n",
    "  _dif.resize(_n1 * _n2);\n",
    "  srand(time(NULL));\n",
    "    \n",
    "  for (int i = 0; i < _n1 * _n2; i++) {\n",
    "    _dif[i] = .05 + .1 * (((float)rand() / (float)RAND_MAX) - .5);\n",
    "  }\n",
    "}\n",
    "\n",
    "heatEqFull::heatEqFull(const std::shared_ptr<float2DReg> in) {\n",
    "  allocFill(in);\n",
    "  for (int i2 = 0; i2 < _n2; i2++) {\n",
    "    for (int i1 = 0; i1 < _n1; i1++) {\n",
    "      std::vector<float> v(_n1 * _n2, 0.);\n",
    "      if (i2 > 1 && i2 < _n2 - 1 && i1 > 1 && i1 < _n1 - 1) {\n",
    "        v[i1 + i2 * _n1] = -4 * _dif[i1 + i2 * _n1] + 1;\n",
    "        v[i1 + i2 * _n1 - 1] = _dif[i1 + i2 * _n1];\n",
    "        v[i1 + i2 * _n1 + 1] = _dif[i1 + i2 * _n1];\n",
    "        v[i1 + i2 * _n1 + _n1] = _dif[i1 + i2 * _n1];\n",
    "        v[i1 + i2 * _n1 - _n1] = _dif[i1 + i2 * _n1];\n",
    "      }\n",
    "      _full.push_back(v);\n",
    "    }\n",
    "  }\n",
    "}\n",
    "\n",
    "void heatEqFull::explicitStep(const std::shared_ptr<float2DReg> in,\n",
    "                              std::shared_ptr<float2DReg> out) {\n",
    "  int i = 0;\n",
    "  for (int i2 = 0; i2 < _n2; i2++) {\n",
    "    for (int i1 = 0; i1 < _n1; i1++, i++) {\n",
    "      (*out->_mat)[i2][i1] = 0;\n",
    "      int j = 0;\n",
    "      for (int j2 = 0; j2 < _n2; j2++) {\n",
    "        for (int j1 = 0; j1 < _n1; j1++, j++) {\n",
    "          (*out->_mat)[i2][i1] += (*in->_mat)[j2][j1] * _full[i][j];\n",
    "        }\n",
    "      }\n",
    "    }\n",
    "  }\n",
    "}\n",
    "\n",
    "heatEqSparse::heatEqSparse(const std::shared_ptr<float2DReg> in) {\n",
    "  allocFill(in);\n",
    "}\n",
    "        \n",
    "void heatEqSparse::explicitStep(const std::shared_ptr<float2DReg> in,\n",
    "                                std::shared_ptr<float2DReg> out) {}\n",
    "\n",
    "heatEqOp::heatEqOp(const std::shared_ptr<float2DReg> in) { \n",
    "  allocFill(in);\n",
    "}\n",
    "        \n",
    "void heatEqOp::explicitStep(const std::shared_ptr<float2DReg> in,\n",
    "                            std::shared_ptr<float2DReg> out) {}"
   ]
  },
  {
   "cell_type": "markdown",
   "metadata": {},
   "source": [
    "Compile the code using the cell below."
   ]
  },
  {
   "cell_type": "code",
   "execution_count": null,
   "metadata": {},
   "outputs": [],
   "source": [
    "!mkdir -p build; cd build; rm -rf *; cmake -DgenericIO_DIR=/opt/SEP/lib/cmake -DCMAKE_INSTALL_PREFIX=/opt/SEP/local -DCMAKE_CXX_COMPILER=\"g++\" -DCMAKE_CXX_FLAGS=\"-O2 -fno-tree-vectorize\" ../src; make install"
   ]
  },
  {
   "cell_type": "markdown",
   "metadata": {},
   "source": [
    "Now we initalize the operator."
   ]
  },
  {
   "cell_type": "code",
   "execution_count": null,
   "metadata": {},
   "outputs": [],
   "source": [
    "# for auto-reloading external modules\n",
    "# see http://stackoverflow.com/questions/1907993/autoreload-of-modules-in-ipython\n",
    "%load_ext autoreload\n",
    "%autoreload 2\n",
    "\n",
    "import Hypercube\n",
    "import SepVector\n",
    "import LabRoofline\n",
    "\n",
    "dom1 = SepVector.getSepVector(Hypercube.hypercube(ns=[100,100]))\n",
    "\n",
    "op = LabRoofline.heatEqFull(dom1)"
   ]
  },
  {
   "cell_type": "markdown",
   "metadata": {},
   "source": [
    "And now we can run 200 steps of the heat equation. (**Warning:** Be patient, this may take a little while)."
   ]
  },
  {
   "cell_type": "code",
   "execution_count": null,
   "metadata": {},
   "outputs": [],
   "source": [
    "%matplotlib inline\n",
    "\n",
    "import matplotlib.pyplot as plt\n",
    "\n",
    "dom2 = dom1.clone()\n",
    "dom1.zero()\n",
    "dom1.getNdArray()[50][50] = 1.\n",
    "\n",
    "for i2 in range(100):\n",
    "    op.explicitStep(dom1, dom2)\n",
    "    op.explicitStep(dom2, dom1)\n",
    "\n",
    "op.explicitStep(dom1, dom2)\n",
    "plt.imshow(dom2.getNdArray())"
   ]
  },
  {
   "cell_type": "markdown",
   "metadata": {},
   "source": [
    "Try out different sizes of the domain. Is the problem memory-bound or compute-bound? Does the result make sense given the operational intensity? How much of the peak performance are you achieving?"
   ]
  },
  {
   "cell_type": "markdown",
   "metadata": {},
   "source": [
    "# Part 2\n",
    "\n",
    "We could also do the explicit update step by sparse matrix multiplication. We could create integer arrays where our matrix is non-zero and then have our explicit step be a sparse-matrix multiplication. Code this approach in the class `heatEqSparse`. Plot the result to make sure your answer makes sense."
   ]
  },
  {
   "cell_type": "markdown",
   "metadata": {},
   "source": [
    "Calculate the operational intensity of the sparse matrix multiplication. "
   ]
  },
  {
   "cell_type": "markdown",
   "metadata": {},
   "source": [
    "What percentage of maximum performance did you achieve?"
   ]
  },
  {
   "cell_type": "markdown",
   "metadata": {},
   "source": [
    "# Part 3\n",
    "\n",
    "Another approach is to directly code the explicit step in operator form. Instead of coding the operator in a full, or sparse matrix, directly apply the derivatives.  Code this approach in the class `heatEqOp`. "
   ]
  },
  {
   "cell_type": "markdown",
   "metadata": {},
   "source": [
    "Calculate the operational intensity of this approach."
   ]
  },
  {
   "cell_type": "markdown",
   "metadata": {},
   "source": [
    "How does it compare to ideal performance?"
   ]
  },
  {
   "cell_type": "markdown",
   "metadata": {},
   "source": [
    "# Part 4\n",
    "\n",
    "Suggest ways to improve your approach in Part 3 and 4 to achieve better performance."
   ]
  }
 ],
 "metadata": {
  "kernelspec": {
   "display_name": "Python 3",
   "language": "python",
   "name": "python3"
  },
  "language_info": {
   "codemirror_mode": {
    "name": "ipython",
    "version": 3
   },
   "file_extension": ".py",
   "mimetype": "text/x-python",
   "name": "python",
   "nbconvert_exporter": "python",
   "pygments_lexer": "ipython3",
   "version": "3.7.1"
  }
 },
 "nbformat": 4,
 "nbformat_minor": 2
}
