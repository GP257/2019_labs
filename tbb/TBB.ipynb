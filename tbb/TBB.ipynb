{
 "cells": [
  {
   "cell_type": "markdown",
   "metadata": {},
   "source": [
    "# Introduction\n",
    "\n",
    "The **Thread Building Block (TBB)** library is a method to do thread parallelism.  The library is object-oriented in nature but with C++11's ability to do lambda functions the syntax is not too diffcult.  In this lab you will be parallelizing a library that does a [discrete wavelet transform](https://en.wikipedia.org/wiki/Discrete_wavelet_transform).  The discrete wavelet transform is used in compression and noise removal (among many other applications). It basically applies a filter to a dataset to break it into low and high wavelet components. \n",
    "\n",
    "In the next two cells we download one of the classic image datasets and display it."
   ]
  },
  {
   "cell_type": "code",
   "execution_count": null,
   "metadata": {},
   "outputs": [],
   "source": [
    "!touch leena.HH; rm -rf leena.HH; wget http://sep.stanford.edu/sep/bob/data/leena.HH"
   ]
  },
  {
   "cell_type": "code",
   "execution_count": null,
   "metadata": {},
   "outputs": [],
   "source": [
    "%matplotlib inline\n",
    "import SepVector\n",
    "import Hypercube\n",
    "import genericIO\n",
    "import matplotlib.pyplot as plt\n",
    "\n",
    "leena = genericIO.defaultIO.getVector(\"leena.HH\")\n",
    "plt.imshow(leena.getNdArray(), cmap=\"gray\")"
   ]
  },
  {
   "cell_type": "markdown",
   "metadata": {},
   "source": [
    "You will be editing a C++ code to introduce parallelism using TBB.  The next cell configures the Cmake package. We can then compile the code using the following cell."
   ]
  },
  {
   "cell_type": "code",
   "execution_count": null,
   "metadata": {},
   "outputs": [],
   "source": [
    "!mkdir -p build; cd build; rm -rf *; cmake -DCMAKE_INSTALL_PREFIX=/opt/SEP/local -DCMAKE_CXX_COMPILER=g++ -DCMAKE_CXX_FLAGS=-fPIC -DgenericIO_DIR=/opt/SEP/lib/cmake ../src"
   ]
  },
  {
   "cell_type": "code",
   "execution_count": null,
   "metadata": {},
   "outputs": [],
   "source": [
    "!cd build; make install"
   ]
  },
  {
   "cell_type": "markdown",
   "metadata": {},
   "source": [
    "We can run the forward serial version of the transform using the following cell."
   ]
  },
  {
   "cell_type": "code",
   "execution_count": null,
   "metadata": {},
   "outputs": [],
   "source": [
    "import LabTBB\n",
    "\n",
    "test = leena.clone()\n",
    "op = LabTBB.wavelet2D()\n",
    "op.forwardTransformS(leena, test)\n",
    "plt.imshow(test.getNdArray(), cmap=\"gray\")"
   ]
  },
  {
   "cell_type": "markdown",
   "metadata": {},
   "source": [
    "In this display the result of the low-low transform is displayed in the top-left, high-low is in the top right,\n",
    "low-high in the bottom left, and the high-high in the bottom right. Note how most of the energy is in the top-left panel. \n",
    "\n",
    "We can now run the inverse channel and recover the image."
   ]
  },
  {
   "cell_type": "code",
   "execution_count": null,
   "metadata": {},
   "outputs": [],
   "source": [
    "%matplotlib inline\n",
    "\n",
    "leena2 = leena.clone()\n",
    "op.inverseTransformS(test, leena2)\n",
    "plt.imshow(leena2.getNdArray(), cmap=\"gray\")"
   ]
  },
  {
   "cell_type": "markdown",
   "metadata": {},
   "source": [
    "To get a good estimate of the execution speed let's make 256 copies of our image."
   ]
  },
  {
   "cell_type": "code",
   "execution_count": null,
   "metadata": {},
   "outputs": [],
   "source": [
    "%matplotlib inline\n",
    "leenaBig = SepVector.getSepVector(Hypercube.hypercube(ns=[512*16,512*16]))\n",
    "leenaWave = leenaBig.clone()\n",
    "leenaBigOut = leenaBig.clone()\n",
    "\n",
    "def bigMap(sm, bg):\n",
    "    big = bg.getNdArray()\n",
    "    small = sm.getNdArray()\n",
    "    for i4 in range(16):\n",
    "        for i3 in range(16):\n",
    "            for i2 in range(512):\n",
    "                for i1 in range(512):\n",
    "                    big[i4*512+i2][i3*512+i1] = small[i2][i1]\n",
    "\n",
    "bigMap(leena, leenaBig)\n",
    "plt.imshow(leenaBig.getNdArray(), cmap=\"gray\")"
   ]
  },
  {
   "cell_type": "markdown",
   "metadata": {},
   "source": [
    "Now let's run the forward to see how fast it is."
   ]
  },
  {
   "cell_type": "code",
   "execution_count": null,
   "metadata": {},
   "outputs": [],
   "source": [
    "%%time\n",
    "\n",
    "op.forwardTransformS(leenaBig,leenaWave)"
   ]
  },
  {
   "cell_type": "markdown",
   "metadata": {},
   "source": [
    "# Assignment\n",
    "\n",
    "Your job is to parallelize the C++ code using TBB. You should test and report the speeds. Test it with\n",
    "outer loop parallelism (easy), inner loop paralleilsm (harder), and parallelizing both loops.  "
   ]
  },
  {
   "cell_type": "markdown",
   "metadata": {},
   "source": [
    "The machine you are working on has 24 cores and has a parallel bandwidth of 72 GB/s. Remake the roofline model from the **Roofline** lab. Figure out the new crossing point between memory-bandwidth limited and flops limited."
   ]
  },
  {
   "cell_type": "markdown",
   "metadata": {},
   "source": [
    "Calculate how close you got to optimal performance and speculate how you could have done better."
   ]
  }
 ],
 "metadata": {
  "kernelspec": {
   "display_name": "Python 3",
   "language": "python",
   "name": "python3"
  },
  "language_info": {
   "codemirror_mode": {
    "name": "ipython",
    "version": 3
   },
   "file_extension": ".py",
   "mimetype": "text/x-python",
   "name": "python",
   "nbconvert_exporter": "python",
   "pygments_lexer": "ipython3",
   "version": "3.6.8"
  }
 },
 "nbformat": 4,
 "nbformat_minor": 2
}
