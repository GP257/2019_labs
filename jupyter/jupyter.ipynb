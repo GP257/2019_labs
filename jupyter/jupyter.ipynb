{
 "cells": [
  {
   "cell_type": "markdown",
   "metadata": {},
   "source": [
    "# Jupyter\n",
    "In this class you will be using **Jupyter notebooks** to complete your assignments. This assignment is a brief  introduction to the main features you will be using.  Notebooks are composed of cells. Each cell is one of four types: Markdown, Code, Raw NB Convert, and Heading. In this class you will be using the first two types.  You can change the type of a cell through the pull-down menu above.  This cell is an example of a markdown cell. Markdown cells are used for text. You can edit the contents of a cell by clicking on it and hitting the `enter` key, or by double-clicking it. You can execute a cell by either hitting the `Run` icon above or by hitting the `shift` and `enter` keys simultaneously.\n",
    "\n",
    "The menu bar above also gives you the option of saving, adding a cell, cutting a cell, copying and pasting, moving to the next or previous cell, stopping a cell, or restarting the notebook. Begin by executing this cell. "
   ]
  },
  {
   "cell_type": "markdown",
   "metadata": {},
   "source": [
    "Markdown cells are not limited to simple text.  There are shortcuts for additional formatting. For example, add `#` followed by a space and some text on the next line."
   ]
  },
  {
   "cell_type": "markdown",
   "metadata": {},
   "source": [
    "You should have produced a large bold heading. Experiment with adding additional `#` to the beginning of some lines. Experiment with creating different levels of subheadings. "
   ]
  },
  {
   "cell_type": "markdown",
   "metadata": {},
   "source": [
    "Now try adding `-----` on the following line to produce a separator."
   ]
  },
  {
   "cell_type": "markdown",
   "metadata": {},
   "source": [
    "# Emphasis\n",
    "\n",
    "Experiment with different types of emphasis by putting text in between single `*`, double `**`, and `~~`."
   ]
  },
  {
   "cell_type": "markdown",
   "metadata": {},
   "source": [
    "# Lists\n",
    "\n",
    "Start several lines with a number followed by a period to make a numbered list.\n",
    "\n",
    "Now make another list by starting with `-`.\n"
   ]
  },
  {
   "cell_type": "markdown",
   "metadata": {},
   "source": [
    "# Links\n",
    "\n",
    "We can make a hyperlink by putting the text in between `[]` followed by the link between `()`.  Make a link to the google home page.\n"
   ]
  },
  {
   "cell_type": "markdown",
   "metadata": {},
   "source": [
    "# Tables\n",
    "\n",
    "You can make a table by separating cells with `|` and `-`.  Make a table in this cell."
   ]
  },
  {
   "cell_type": "markdown",
   "metadata": {},
   "source": [
    "# Code\n",
    "\n",
    "The next cell is a code cell, in this case a Python cell. Print out hello world by writing: `print(\"hello world\")`."
   ]
  },
  {
   "cell_type": "code",
   "execution_count": null,
   "metadata": {},
   "outputs": [],
   "source": []
  },
  {
   "cell_type": "markdown",
   "metadata": {},
   "source": [
    "# Cell magic\n",
    "\n",
    "We can do perform specific tasks using something called **cell magic**. We can do things like save the contents of a cell to a file."
   ]
  },
  {
   "cell_type": "code",
   "execution_count": null,
   "metadata": {},
   "outputs": [],
   "source": [
    "%%writefile test.me\n",
    "\n",
    "This is an example of writing to a file."
   ]
  },
  {
   "cell_type": "markdown",
   "metadata": {},
   "source": [
    "We can also load the contents of a file."
   ]
  },
  {
   "cell_type": "code",
   "execution_count": null,
   "metadata": {},
   "outputs": [],
   "source": [
    "%load test.me"
   ]
  },
  {
   "cell_type": "markdown",
   "metadata": {},
   "source": [
    "Probably the most useful cell magic allows you to use mathplotlib graphics. In the cell below make a simple plot of the variable `ar` using the command `plt.plot(ar)`."
   ]
  },
  {
   "cell_type": "code",
   "execution_count": null,
   "metadata": {},
   "outputs": [],
   "source": [
    "%matplotlib inline\n",
    "\n",
    "import matplotlib.pyplot as plt\n",
    "\n",
    "ar = []\n",
    "for i in range(10):\n",
    "    ar.append(i + 3 + .2)"
   ]
  },
  {
   "cell_type": "markdown",
   "metadata": {},
   "source": [
    "You can see examples of cell magic options by running the cell below. \n",
    "Try out a couple of them and add your examples below."
   ]
  },
  {
   "cell_type": "code",
   "execution_count": null,
   "metadata": {},
   "outputs": [],
   "source": [
    "%lsmagic"
   ]
  }
 ],
 "metadata": {
  "kernelspec": {
   "display_name": "Python 3",
   "language": "python",
   "name": "python3"
  },
  "language_info": {
   "codemirror_mode": {
    "name": "ipython",
    "version": 3
   },
   "file_extension": ".py",
   "mimetype": "text/x-python",
   "name": "python",
   "nbconvert_exporter": "python",
   "pygments_lexer": "ipython3",
   "version": "3.7.1"
  }
 },
 "nbformat": 4,
 "nbformat_minor": 2
}
