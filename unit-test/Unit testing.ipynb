{
 "cells": [
  {
   "cell_type": "markdown",
   "metadata": {},
   "source": [
    "# Introduction\n",
    "\n",
    "Debugging a complex program can be extraordinarly difficult.  Unit testing was designed to help the debugging process.\n",
    "The philosophy in unit testing is before you even write your function you write tests to make sure it is performing as you expect. As soon as you write, and everytime you make a change, to your function, you check to make sure you haven't introduced a bug.\n",
    "\n",
    "In this lab you will be writing some unit tests for the vector class you developed in the OOP lab.  We will be using google's [gtest](https://github.com/google/googletest/blob/master/googletest/docs/primer.md) software.  To introduce testing we begin by modifying our root CmakeLists.txt file:\n",
    "  - we add a submodule containing gtest framework,\n",
    "  - we add an option on whether to build testing software,\n",
    "  - we add the *enable_testing*\n",
    "  - and we add a testing directory that is only entereed whehn testing is enabled.\n",
    "  \n",
    "Below you will find the root CMakeLists.txt file."
   ]
  },
  {
   "cell_type": "code",
   "execution_count": 8,
   "metadata": {},
   "outputs": [
    {
     "name": "stdout",
     "output_type": "stream",
     "text": [
      "#Requied CMake version\r\n",
      "cmake_minimum_required(VERSION 3.5 FATAL_ERROR)\r\n",
      "\r\n",
      "option(ENABLE_TESTING \"Whether or not to enable testing\" OFF)\r\n",
      "\r\n",
      "#We need to add to how to find TBB which sits in the cmake dir\r\n",
      "list(APPEND CMAKE_MODULE_PATH \"${CMAKE_CURRENT_LIST_DIR}/cmake\")\r\n",
      "\r\n",
      "\r\n",
      "#Name of our cmake project\r\n",
      "project(lab2 LANGUAGES CXX)\r\n",
      "\r\n",
      "#Require c++111\r\n",
      "set(CMAKE_CXX_STANDARD 11)\r\n",
      "set(CMAKE_CXX_STANDARD_REQUIRED ON)\r\n",
      "\r\n",
      "\r\n",
      "add_executable(draw draw.cc)\r\n",
      "\r\n",
      "#add the rules for building the C++ code\r\n",
      "add_subdirectory(lib)\r\n",
      "\r\n",
      "#add the rules for python binding\r\n",
      "add_subdirectory(python)\r\n",
      "\r\n",
      "if(ENABLE_TESTING)\r\n",
      "\tenable_testing()\r\n",
      "\texecute_process(COMMAND git submodule update --init --recursive --\r\n",
      "                        external/googletest\r\n",
      "                WORKING_DIRECTORY ${CMAKE_CURRENT_SOURCE_DIR})\r\n",
      "\tadd_subdirectory(external/googletest)\t\r\n",
      "\tadd_subdirectory(testing)\r\n",
      "endif(ENABLE_TESTING)\r\n",
      "\r\n"
     ]
    }
   ],
   "source": [
    "%cat ../OOP/src/CMakeLists.txt"
   ]
  },
  {
   "cell_type": "markdown",
   "metadata": {},
   "source": [
    "In the testing directory we create a main called *vectorTest.cc*.  We link it with both our library and the gtest libraries.  In addtiona we tell cmake that it is a test with *add_test*."
   ]
  },
  {
   "cell_type": "code",
   "execution_count": 9,
   "metadata": {},
   "outputs": [
    {
     "name": "stdout",
     "output_type": "stream",
     "text": [
      "cmake_minimum_required(VERSION 3.1)\r\n",
      "project(buffers-utest)\r\n",
      "\r\n",
      "include_directories(\"${CMAKE_CURRENT_SOURCE_DIR}/../lib\")\r\n",
      "include_directories(\"${CMAKE_CURRENT_SOURCE_DIR}/../external/googletest/googletest/include\")\r\n",
      "\r\n",
      "\r\n",
      " set(GTEST ../external/googletest/googlemock/gtest/libgtest.a  ../external/googletest/googlemock/gtest/libgtest_main.a  ../external/googletest/googlemock/gtest/libgtest.a )\r\n",
      "\r\n",
      "add_executable( vectorTest vectorTest.cc)\r\n",
      "target_link_libraries(vectorTest  OOPLab gtest gtest_main gtest )\r\n",
      "add_test(AllStoreTests vectorTest)\r\n",
      "\r\n",
      "\r\n"
     ]
    }
   ],
   "source": [
    "%cat ../OOP/src/testing/CMakeLists.txt"
   ]
  },
  {
   "cell_type": "markdown",
   "metadata": {},
   "source": [
    "The next cell configures the code. Note how we've added *-DENABLE_TESTING=on* to enable testing."
   ]
  },
  {
   "cell_type": "code",
   "execution_count": 11,
   "metadata": {},
   "outputs": [
    {
     "name": "stdout",
     "output_type": "stream",
     "text": [
      "mkdir: build: File exists\n",
      "-- Found PythonInterp: /anaconda3/bin/python3 (found suitable version \"3.6.5\", minimum required is \"3\") \n",
      "-- Found PythonInterp: /anaconda3/bin/python3 (found version \"3.6.5\") \n",
      "-- Configuring done\n",
      "-- Generating done\n",
      "-- Build files have been written to: /Users/bob/Src/gp257Labs/unit-test/build\n"
     ]
    }
   ],
   "source": [
    "! mkdir build; cd build; cmake -DCMAKE_INSTALL_PREFIX=/opt/SEP -DENABLE_TESTING=on -DCMAKE_CXX_COMPILER=g++-mp-7 ../../OOP/src"
   ]
  },
  {
   "cell_type": "markdown",
   "metadata": {},
   "source": [
    "Below is the one test that I've written.  In this case it just checks to make sure that the size I ask the vector allocate is actually allocated."
   ]
  },
  {
   "cell_type": "code",
   "execution_count": null,
   "metadata": {},
   "outputs": [],
   "source": [
    "%%writefile ../OOP/src/testing/vectorTest.cc\n",
    "#include <gtest/gtest.h>  // googletest header file\n",
    "#include <iostream>\n",
    "#include <string>\n",
    "#include \"stlVector.h\"\n",
    "using std::string;\n",
    "TEST(checkCreate, stlVector) {\n",
    "  std::shared_ptr<stlVector> z(new stlVector(10));\n",
    "  EXPECT_EQ(z->_vals.size(), 10);\n",
    "}\n"
   ]
  },
  {
   "cell_type": "markdown",
   "metadata": {},
   "source": [
    "If we use the *make test* command we will run all tests for the project."
   ]
  },
  {
   "cell_type": "code",
   "execution_count": 12,
   "metadata": {},
   "outputs": [
    {
     "name": "stdout",
     "output_type": "stream",
     "text": [
      "\u001b[36mRunning tests...\u001b[0m\n",
      "Test project /Users/bob/Src/gp257Labs/unit-test/build\n",
      "    Start 1: AllStoreTests\n",
      "1/1 Test #1: AllStoreTests ....................   Passed    0.02 sec\n",
      "\n",
      "100% tests passed, 0 tests failed out of 1\n",
      "\n",
      "Total Test time (real) =   0.03 sec\n"
     ]
    }
   ],
   "source": [
    "!cd build;make test"
   ]
  },
  {
   "cell_type": "markdown",
   "metadata": {},
   "source": [
    "# Assignment \n",
    "\n",
    "Your job is to write tests for your *stlVector* class. Check to make sure each function gives the proper result.  The gtest webiste above will prove useful."
   ]
  },
  {
   "cell_type": "code",
   "execution_count": null,
   "metadata": {},
   "outputs": [],
   "source": []
  }
 ],
 "metadata": {
  "kernelspec": {
   "display_name": "Python 3",
   "language": "python",
   "name": "python3"
  },
  "language_info": {
   "codemirror_mode": {
    "name": "ipython",
    "version": 3
   },
   "file_extension": ".py",
   "mimetype": "text/x-python",
   "name": "python",
   "nbconvert_exporter": "python",
   "pygments_lexer": "ipython3",
   "version": "3.7.4"
  },
  "latex_envs": {
   "LaTeX_envs_menu_present": true,
   "autoclose": false,
   "autocomplete": true,
   "bibliofile": "biblio.bib",
   "cite_by": "apalike",
   "current_citInitial": 1,
   "eqLabelWithNumbers": true,
   "eqNumInitial": 1,
   "hotkeys": {
    "equation": "Ctrl-E",
    "itemize": "Ctrl-I"
   },
   "labels_anchors": false,
   "latex_user_defs": false,
   "report_style_numbering": false,
   "user_envs_cfg": false
  },
  "toc": {
   "base_numbering": 1,
   "nav_menu": {},
   "number_sections": true,
   "sideBar": true,
   "skip_h1_title": false,
   "title_cell": "Table of Contents",
   "title_sidebar": "Contents",
   "toc_cell": false,
   "toc_position": {},
   "toc_section_display": true,
   "toc_window_display": false
  }
 },
 "nbformat": 4,
 "nbformat_minor": 2
}
