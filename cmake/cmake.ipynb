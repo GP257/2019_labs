{
 "cells": [
  {
   "cell_type": "markdown",
   "metadata": {},
   "source": [
    "# Cmake\n",
    "\n",
    "Building software can be complicated and intimidating.  **Cmake** is probably the most common method used today.  In this lab we will begin by working through a simple example of building a library and an executable.\n",
    "\n",
    "At some level Cmake is simply a tool for generating makefiles.  You tell Cmake what you want to build by writing `CmakeLists.txt` files.  It checks that the computer supports what you want to build (for example that it has the correct compiler) and then generates rules to build your software.  In this class we will use a consistent directory structure.  Our root directory for code and rules will be named `src`. Below you can see the listing of the `src` directory for our example."
   ]
  },
  {
   "cell_type": "code",
   "execution_count": null,
   "metadata": {},
   "outputs": [],
   "source": [
    "!ls example/src"
   ]
  },
  {
   "cell_type": "markdown",
   "metadata": {},
   "source": [
    "Notice that we have two files, the root directory `CMakeLists.txt` file and our main program `dowGame.cc`.  We also have a sub-directory called `lib`.  Below you will see an annotated version of the root directory `CMakeLists.txt` file."
   ]
  },
  {
   "cell_type": "code",
   "execution_count": null,
   "metadata": {},
   "outputs": [],
   "source": [
    "!cat example/src/CMakeLists.txt"
   ]
  },
  {
   "cell_type": "markdown",
   "metadata": {},
   "source": [
    "Our file first defines what it requires from the environment, then says to go into the `lib` directory for additional rules to build the library, and eventually defines how to build the executable.\n",
    "\n",
    "For this simple example we defined a simple class `dow30` with just an initializer and one function.  Below you can see its `.h` file."
   ]
  },
  {
   "cell_type": "code",
   "execution_count": null,
   "metadata": {},
   "outputs": [],
   "source": [
    "!cat example/src/lib/dow30.h"
   ]
  },
  {
   "cell_type": "markdown",
   "metadata": {},
   "source": [
    "This simple class just returns the name and symbol of one of the 30 stocks that make up the Dow Jones Average.  The code for the class can be seen below."
   ]
  },
  {
   "cell_type": "code",
   "execution_count": null,
   "metadata": {},
   "outputs": [],
   "source": [
    "!cat example/src/lib/dow30.cc"
   ]
  },
  {
   "cell_type": "markdown",
   "metadata": {},
   "source": [
    "Our `main` function simply initializes a `dow30` object and then writes out the company name with a little message."
   ]
  },
  {
   "cell_type": "code",
   "execution_count": null,
   "metadata": {},
   "outputs": [],
   "source": [
    "!cat example/src/dowGame.cc"
   ]
  },
  {
   "cell_type": "markdown",
   "metadata": {},
   "source": [
    "We are going to build our software in a separate directory called `build` at the same level as our `src` directory.  To run `cmake` we need to specify where our source directory is located and any additional information it might need. In this case we are also going to tell it where we want to install the software by setting the environment variable `CMAKE_INSTALL_PREFIX`.  By setting this prefix we are telling Cmake that any installed executables should go into `CMAKE_INSTALL_PREFIX/bin`, include files into `CMAKE_INSTALL_PREFIX/include`, and libraries in `CMAKE_INSTALL_PREFX/lib` by default.  We set environment variables by adding `-D` options to our `cmake` command line."
   ]
  },
  {
   "cell_type": "code",
   "execution_count": null,
   "metadata": {},
   "outputs": [],
   "source": [
    "!mkdir -p example/build; cd example/build; rm -rf *; cmake -DCMAKE_INSTALL_PREFIX=/opt/SEP/local ../src"
   ]
  },
  {
   "cell_type": "markdown",
   "metadata": {},
   "source": [
    "By running this command Cmake generates a series of makefiles that will be used to compile and install the software. We can then build our software with the `make` command."
   ]
  },
  {
   "cell_type": "code",
   "execution_count": null,
   "metadata": {},
   "outputs": [],
   "source": [
    "!cd example/build; make "
   ]
  },
  {
   "cell_type": "markdown",
   "metadata": {},
   "source": [
    "We can now test our code."
   ]
  },
  {
   "cell_type": "code",
   "execution_count": null,
   "metadata": {},
   "outputs": [],
   "source": [
    "!./example/build/dowGame"
   ]
  },
  {
   "cell_type": "markdown",
   "metadata": {},
   "source": [
    "## Assignment\n",
    "\n",
    "There are many different ways to calculate $\\pi$.  One of the more intuitive methods is to imagine a 2D space, spanning from 0 to 1 in $x$ and $y$, and imagine 1/4 of a cirle with radius 1 going from (0,1) to (1,0).  If you were to choose a random location in that 2D space, what are the chances it would be within the circle?  It is easy to prove mathematically that the odds are $\\pi \\over 4$. We can then get an approximation of $\\pi$ by choosing more and more random locations. You can see a Python implementation below."
   ]
  },
  {
   "cell_type": "code",
   "execution_count": null,
   "metadata": {},
   "outputs": [],
   "source": [
    "import random\n",
    "\n",
    "def calcPi(n_trys):\n",
    "    inside = 0\n",
    "    for i in range(n_trys):\n",
    "        x = random.random()\n",
    "        y = random.random()\n",
    "        radius = x * x + y * y\n",
    "        if radius <= 1:\n",
    "            inside += 1\n",
    "    return 4. * inside / n_trys  "
   ]
  },
  {
   "cell_type": "code",
   "execution_count": null,
   "metadata": {},
   "outputs": [],
   "source": [
    "calcPi(10000000)"
   ]
  },
  {
   "cell_type": "markdown",
   "metadata": {},
   "source": [
    "Your job is to write a class `whatIsPi` that can approximate $\\pi$ given a number of random points in the 2D space. You can see the `.h` file of the class below."
   ]
  },
  {
   "cell_type": "code",
   "execution_count": null,
   "metadata": {},
   "outputs": [],
   "source": [
    "!cat src/lib/estimatePi.h"
   ]
  },
  {
   "cell_type": "markdown",
   "metadata": {},
   "source": [
    "Begin by writing the run function in the cell below."
   ]
  },
  {
   "cell_type": "code",
   "execution_count": null,
   "metadata": {},
   "outputs": [],
   "source": [
    "%%writefile src/lib/estimatePi.cc\n",
    "#include \"estimatePi.h\"\n",
    "\n",
    "double estimatePi::estimatePi(const long n_trys) {\n",
    "  // ------------------------\n",
    "  //  FILL IN THIS FUNCTION\n",
    "  // ------------------------\n",
    "}"
   ]
  },
  {
   "cell_type": "markdown",
   "metadata": {},
   "source": [
    "Now write the root `CMakelists.txt` file to call the main program `piEstimate` from the source file `piEstimate.cc`."
   ]
  },
  {
   "cell_type": "code",
   "execution_count": null,
   "metadata": {},
   "outputs": [],
   "source": [
    "%%writefile src/CMakeLists.txt\n",
    "# ------------------------\n",
    "#       FILL THIS IN\n",
    "# ------------------------"
   ]
  },
  {
   "cell_type": "markdown",
   "metadata": {},
   "source": [
    "Write the library `CMakeLists.txt` file."
   ]
  },
  {
   "cell_type": "code",
   "execution_count": null,
   "metadata": {},
   "outputs": [],
   "source": [
    "%%writefile src/lib/CMakeLists.txt\n",
    "# ------------------------\n",
    "#       FILL THIS IN\n",
    "# ------------------------"
   ]
  },
  {
   "cell_type": "markdown",
   "metadata": {},
   "source": [
    "Write your main program."
   ]
  },
  {
   "cell_type": "code",
   "execution_count": null,
   "metadata": {},
   "outputs": [],
   "source": [
    "%%writefile src/lib/piEstimate.cc\n",
    "// ------------------------\n",
    "//       FILL THIS IN\n",
    "// ------------------------"
   ]
  },
  {
   "cell_type": "markdown",
   "metadata": {},
   "source": [
    "Once you have coded everything properly, execute the next cell to run `cmake`."
   ]
  },
  {
   "cell_type": "code",
   "execution_count": null,
   "metadata": {},
   "outputs": [],
   "source": [
    "!mkdir -p build; cd build; rm -rf *; cmake ../src"
   ]
  },
  {
   "cell_type": "markdown",
   "metadata": {},
   "source": [
    "If that works run the make command to build the software."
   ]
  },
  {
   "cell_type": "code",
   "execution_count": null,
   "metadata": {},
   "outputs": [],
   "source": [
    "!cd build; make"
   ]
  },
  {
   "cell_type": "markdown",
   "metadata": {},
   "source": [
    "Finally test your program."
   ]
  },
  {
   "cell_type": "code",
   "execution_count": null,
   "metadata": {},
   "outputs": [],
   "source": [
    "!./build/estimatePi"
   ]
  }
 ],
 "metadata": {
  "kernelspec": {
   "display_name": "Python 3",
   "language": "python",
   "name": "python3"
  },
  "language_info": {
   "codemirror_mode": {
    "name": "ipython",
    "version": 3
   },
   "file_extension": ".py",
   "mimetype": "text/x-python",
   "name": "python",
   "nbconvert_exporter": "python",
   "pygments_lexer": "ipython3",
   "version": "3.7.1"
  }
 },
 "nbformat": 4,
 "nbformat_minor": 2
}
