{
 "cells": [
  {
   "cell_type": "markdown",
   "metadata": {},
   "source": [
    "# Vectorization\n",
    "\n",
    "In this lab you will be parallelizing a library that does a [discrete wavelet transform](https://en.wikipedia.org/wiki/Discrete_wavelet_transform). The discrete wavelet transform is used in compression and noise removal (among many other applications). It basically applies a filter to a dataset to break it into low and high wavelet components. \n",
    "\n",
    "In the next two cells we download one of the classic image datasets and display it."
   ]
  },
  {
   "cell_type": "code",
   "execution_count": null,
   "metadata": {},
   "outputs": [],
   "source": [
    "!touch leena.HH; rm -rf leena.HH; wget http://sep.stanford.edu/sep/bob/data/leena.HH "
   ]
  },
  {
   "cell_type": "code",
   "execution_count": null,
   "metadata": {},
   "outputs": [],
   "source": [
    "%matplotlib inline\n",
    "import SepVector\n",
    "import Hypercube\n",
    "import genericIO\n",
    "import matplotlib.pyplot as plt\n",
    "\n",
    "leena = genericIO.defaultIO.getVector(\"leena.HH\")\n",
    "plt.imshow(leena.getNdArray(), cmap=\"gray\")"
   ]
  },
  {
   "cell_type": "markdown",
   "metadata": {},
   "source": [
    "You will be editing a C++ code to introduce parallelism using ISPC. The next cell configure the Cmake package. We can then compile the code using the following cell."
   ]
  },
  {
   "cell_type": "code",
   "execution_count": null,
   "metadata": {},
   "outputs": [],
   "source": [
    "!mkdir -p build; cd build; rm -rf *; cmake -DCMAKE_INSTALL_PREFIX=/opt/SEP/local -DCMAKE_CXX_FLAGS=\"-O3 -fno-tree-vectorize\" -DgenericIO_DIR=/opt/SEP/lib/cmake ../src"
   ]
  },
  {
   "cell_type": "code",
   "execution_count": null,
   "metadata": {
    "scrolled": true
   },
   "outputs": [],
   "source": [
    "!cd build; make install"
   ]
  },
  {
   "cell_type": "markdown",
   "metadata": {},
   "source": [
    "Below you will find an example of how ISPC can speed up calculations. In the next cell we are creating two random vectors of one million units. "
   ]
  },
  {
   "cell_type": "code",
   "execution_count": null,
   "metadata": {},
   "outputs": [],
   "source": [
    "import SepVector\n",
    "import Hypercube\n",
    "a = SepVector.getSepVector(Hypercube.hypercube(ns=[1000000]))\n",
    "b = SepVector.getSepVector(Hypercube.hypercube(ns=[1000000]))\n",
    "a.rand()\n",
    "b.rand()"
   ]
  },
  {
   "cell_type": "markdown",
   "metadata": {},
   "source": [
    "We will write a simple vector multiplication code to test its speed. We can use the **timeit** function to test the execution speed."
   ]
  },
  {
   "cell_type": "code",
   "execution_count": null,
   "metadata": {},
   "outputs": [],
   "source": [
    "%cat src/lib/mult.cc"
   ]
  },
  {
   "cell_type": "code",
   "execution_count": null,
   "metadata": {},
   "outputs": [],
   "source": [
    "%%timeit \n",
    "import LabISPC\n",
    "LabISPC.mult(a,b)"
   ]
  },
  {
   "cell_type": "markdown",
   "metadata": {},
   "source": [
    "We can then vectorize the loop using ISPC."
   ]
  },
  {
   "cell_type": "code",
   "execution_count": null,
   "metadata": {},
   "outputs": [],
   "source": [
    "%cat src/lib/mult.h"
   ]
  },
  {
   "cell_type": "code",
   "execution_count": null,
   "metadata": {},
   "outputs": [],
   "source": [
    "%%writefile src/lib/kernel.ispc\n",
    "export void multISPC(uniform float a[], uniform float b[], uniform int n) {\n",
    "  foreach (i = 0 ... n) {\n",
    "    a[i]=a[i]*b[i];\n",
    "  }\n",
    "}"
   ]
  },
  {
   "cell_type": "markdown",
   "metadata": {},
   "source": [
    "We can test the speed of our vectorized kernel."
   ]
  },
  {
   "cell_type": "code",
   "execution_count": null,
   "metadata": {},
   "outputs": [],
   "source": [
    "%%timeit\n",
    "import LabISPC\n",
    "LabISPC.multISPC(a,b)"
   ]
  },
  {
   "cell_type": "markdown",
   "metadata": {},
   "source": [
    "# Part  1: Vectorization\n",
    "\n",
    "Your assignment is to vectorize the 2-D wavelet transform code. The next cell shows how to run the forward of the serial version of the code."
   ]
  },
  {
   "cell_type": "code",
   "execution_count": null,
   "metadata": {},
   "outputs": [],
   "source": [
    "import LabISPC\n",
    "test = leena.clone()\n",
    "op = LabISPC.wavelet2D()\n",
    "op.forwardTransformS(leena, test)\n",
    "plt.imshow(test.getNdArray(), cmap=\"gray\")"
   ]
  },
  {
   "cell_type": "markdown",
   "metadata": {},
   "source": [
    "We can also run the inverse of the wavelet transform."
   ]
  },
  {
   "cell_type": "code",
   "execution_count": null,
   "metadata": {},
   "outputs": [],
   "source": [
    "%matplotlib inline\n",
    "leena2 = leena.clone()\n",
    "op.inverseTransformS(test, leena2)\n",
    "plt.imshow(leena2.getNdArray(), cmap=\"gray\")"
   ]
  },
  {
   "cell_type": "markdown",
   "metadata": {},
   "source": [
    "To get a better estimate we will make 256 copies of our image."
   ]
  },
  {
   "cell_type": "code",
   "execution_count": null,
   "metadata": {},
   "outputs": [],
   "source": [
    "%matplotlib inline\n",
    "leenaBig = SepVector.getSepVector(Hypercube.hypercube(ns=[512*16,512*16]))\n",
    "leenaWave = leenaBig.clone()\n",
    "leenaBigOut = leenaBig.clone()\n",
    "\n",
    "def bigMap(sm, bg):\n",
    "    big = bg.getNdArray()\n",
    "    small = sm.getNdArray()\n",
    "    for i4 in range(16):\n",
    "        for i3 in range(16):\n",
    "            for i2 in range(512):\n",
    "                for i1 in range(512):\n",
    "                    big[i4*512+i2][i3*512+i1] = small[i2][i1]\n",
    "\n",
    "bigMap(leena, leenaBig)\n",
    "plt.imshow(leenaBig.getNdArray(), cmap=\"gray\")"
   ]
  },
  {
   "cell_type": "code",
   "execution_count": null,
   "metadata": {},
   "outputs": [],
   "source": [
    "%%timeit\n",
    "op.forwardTransformS(leenaBig, leenaWave)"
   ]
  },
  {
   "cell_type": "markdown",
   "metadata": {},
   "source": [
    "Your job is to vectorize the forward and inverse transforms. You will need to add ISPC code to the `kernel.ispc` code. Fill in the `forwardTransformV` and `inverseTransformV` routines in `wavelet2D.cc` the vectorized portion. "
   ]
  },
  {
   "cell_type": "markdown",
   "metadata": {},
   "source": [
    "# Part 2: Parallelization and vectorization\n",
    "\n",
    "Fill in the `forwardTransformVP` and `inverseTransformVP` routines with parallelized version of the forward and ivnerse transform using your vectorized routines."
   ]
  },
  {
   "cell_type": "markdown",
   "metadata": {},
   "source": [
    "# Part 3: Roofline\n",
    "\n",
    "The machine you are working on has 24 cores with a vector length of 8 and has a parallel bandwidth of 72 GB/s. Remake the roofline model from the \"roofline\" lab. Figure out the new crossing-point between memory-bandwidth-limited and flops-limited."
   ]
  }
 ],
 "metadata": {
  "kernelspec": {
   "display_name": "Python 3",
   "language": "python",
   "name": "python3"
  },
  "language_info": {
   "codemirror_mode": {
    "name": "ipython",
    "version": 3
   },
   "file_extension": ".py",
   "mimetype": "text/x-python",
   "name": "python",
   "nbconvert_exporter": "python",
   "pygments_lexer": "ipython3",
   "version": "3.7.1"
  }
 },
 "nbformat": 4,
 "nbformat_minor": 2
}
