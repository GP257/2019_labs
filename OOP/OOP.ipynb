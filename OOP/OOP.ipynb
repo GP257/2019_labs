{
 "cells": [
  {
   "cell_type": "markdown",
   "metadata": {},
   "source": [
    "# OOP basics\n",
    "\n",
    "Object Oriented Programing (OOP) is designed to be intuitive. Unfortunately, if your experience is limited to functional programming it can be challenging to begin with. In this lab you are going to learn some of the basics of OOP, hopefully enough for what you need for this class. We are going to be working with both C++ and Python, so both languages will be covered.\n",
    "\n",
    "# Initialization and member functions\n",
    "\n",
    "The basic idea of OOP is that everything is an object. An object can contain both properties and functions. When we create an object we need to tell the program how to initialize the object.  For example in the next cell we create a kid object with three properties (name, age, and school), and run one of its functions."
   ]
  },
  {
   "cell_type": "code",
   "execution_count": null,
   "metadata": {
    "scrolled": true
   },
   "outputs": [],
   "source": [
    "class kid:\n",
    "    \"\"\"A simple class describing a kid\"\"\"\n",
    "    def __init__(self, name, age, school): #In Python, functions that access memmber properties must include self\n",
    "        \"\"\"Initialize a kid object with their name, age, and school\"\"\"\n",
    "        self.name = name  #The self.name assigns it to a variable of the class\n",
    "        self.age = age\n",
    "        self.school = school\n",
    "        \n",
    "    def tellMeAboutYourself(self):\n",
    "        \"\"\"Give me the basic info\"\"\"\n",
    "        print(\"Hi my name is %s and I am %d years old and go to %s\"%(self.name, self.age, self.school))\n",
    "    \n",
    "k=kid(\"Sydney\",14,\"Fremont\")\n",
    "k.tellMeAboutYourself()"
   ]
  },
  {
   "cell_type": "markdown",
   "metadata": {},
   "source": [
    "# Inheritance\n",
    "\n",
    "One of the powerful concepts in OOP is the concept of inheritance. With inheritance you define a generic type, then create new objects that inherit from the generic type. Any object of the inherited type can run the methods of its parent class. We can also choose to override these methods. Take a look at the code below.  Note how the `opinion` function in `movie` is overriden in its children classes.  Also note how each child class uses the `super()` function to call its parent's initialization function."
   ]
  },
  {
   "cell_type": "code",
   "execution_count": null,
   "metadata": {},
   "outputs": [],
   "source": [
    "class movie:\n",
    "    \"\"\"A generic class for a movie\"\"\"\n",
    "    def __init__(self, name, length):\n",
    "        self.name = name\n",
    "        self.length = length\n",
    "        \n",
    "    def opinion(self):\n",
    "        print(\"No opinion on %s\"%self.name)\n",
    "        \n",
    "    def getLength(self):\n",
    "        return self.length\n",
    "\n",
    "class sciFiMovie(movie):\n",
    "    def __init__(self, name, length):\n",
    "        super().__init__(name, length)\n",
    "        \n",
    "    def opinion(self):\n",
    "        print(\"The movie %s is good.\"%self.name)\n",
    "        \n",
    "class starWarsMovie(sciFiMovie):\n",
    "    def __init__(self, name, length, num):\n",
    "        super().__init__(name, length)\n",
    "        self.num = num\n",
    "        \n",
    "    def opinion(self):\n",
    "        if self.num < 4:\n",
    "            print(\"The movie %s was an embarrassment.\"%(self.name)) \n",
    "        else:\n",
    "            print(\"The movie %s is quite good.\"%self.name)\n",
    "            \n",
    "movies = []\n",
    "movies.append(starWarsMovie(\"Attack of the Clones\", 140, 2))\n",
    "movies.append(starWarsMovie(\"A new hope\", 120, 4))\n",
    "movies.append(sciFiMovie(\"Star Trek\", 130))\n",
    "movies.append(movie(\"Blazing Saddles\", 108))\n",
    "\n",
    "for m in movies:\n",
    "    m.opinion()\n",
    "    print(m.getLength())"
   ]
  },
  {
   "cell_type": "markdown",
   "metadata": {},
   "source": [
    "# Abstract classes (and concrete classes)\n",
    "\n",
    "A special type of parent class is an abstract class. An abstract class is one where we have defined the interface for member functions but does not have a default implementation.  In the C++ code below you will see an example of an abstract class `shape`.  "
   ]
  },
  {
   "cell_type": "code",
   "execution_count": null,
   "metadata": {},
   "outputs": [],
   "source": [
    "%%writefile src/draw.cc\n",
    "#include <iostream>\n",
    "#include <memory>\n",
    "\n",
    "class shape {\n",
    " public:\n",
    "  shape() {}\n",
    "  virtual bool inShape(const int ix, const int iy) = 0;\n",
    "  virtual bool sameShape(const std::shared_ptr<shape> s) = 0;\n",
    "};\n",
    "\n",
    "class rectangle : public shape {\n",
    " public:\n",
    "  rectangle(const int left, const int right, const int top, const int bot) {\n",
    "    this->_left = left;\n",
    "    this->_right = right;\n",
    "    this->_top = top;\n",
    "    this->_bot = bot;\n",
    "  }\n",
    "  virtual bool inShape(const int ix, const int iy) {\n",
    "    if (ix >= this->_left && ix <= this->_right && iy >= this->_top &&\n",
    "        iy <= this->_bot)\n",
    "      return true;\n",
    "    return false;\n",
    "  }\n",
    "  virtual bool sameShape(const std::shared_ptr<shape> s) {\n",
    "    std::shared_ptr<rectangle> s2 = std::dynamic_pointer_cast<rectangle>(s);\n",
    "    if (s2) return true;\n",
    "    return false;\n",
    "  }\n",
    "\n",
    " private:\n",
    "  int _left, _right, _top, _bot;\n",
    "};\n",
    "\n",
    "class circle : public shape {\n",
    "  public:\n",
    "  circle(const int icX, const int icY, const float radius) {\n",
    "    this->_icX = icX; \n",
    "    this->_icY = icY;\n",
    "    this->_radius = radius;\n",
    "  }\n",
    "  virtual bool inShape(const int ix, const int iy) {\n",
    "    if ((ix - this->_icX) * (ix - this->_icX) +\n",
    "            (iy - this->_icY) * (iy - this->_icY) <=\n",
    "        this->_radius * this->_radius)\n",
    "      return true;\n",
    "    return false;\n",
    "  }\n",
    "  virtual bool sameShape(const std::shared_ptr<shape> s) {\n",
    "    std::shared_ptr<circle> s2 = std::dynamic_pointer_cast<circle>(s);\n",
    "    if (s2) return true;\n",
    "    return false;\n",
    "  }\n",
    "\n",
    " private:\n",
    "  int _icX, _icY, _radius;\n",
    "};\n",
    "\n",
    "int main(int argc, char **argv) {\n",
    "    std::shared_ptr<rectangle> r(new rectangle (0,10,0,10)), r2(new rectangle(14,14,20,20));\n",
    "    std::shared_ptr<circle> c(new circle(7,7,4.));\n",
    "    \n",
    "    std::cerr << \"Is the point (2,2) inside the circle? \" << c->inShape(2,2) << \" - Inside the rectangle? \"<< r->inShape(2,2) << std::endl;\n",
    "    std::cerr << \"Are c and r the same type of object? \" << c->sameShape(r) << \" - How about r and r2? \"<< r->sameShape(r2) << std::endl;\n",
    "}"
   ]
  },
  {
   "cell_type": "markdown",
   "metadata": {},
   "source": [
    "There are many things to observe in this class. First some differences from Python:\n",
    "\n",
    "- A class is enclosed in `{};`\n",
    "- The initialization function has the same name as the class\n",
    "- Any function that should be overridden should have the virtual tag\n",
    "\n",
    "Next notice the function `sameShape`. It takes as an argument the virtual class `shape`.  The argument `s` can only use members of the `shape` class. In the `rectangle` `sameShape` function we attempt to cast (change the class) of the argument `s` to a `rectangle`. The dynamic cast will set `s2` to `null` if `s` is not of the class `rectangle`. Otherwise `s` can now use all of the members of `rectangle`.\n",
    "\n",
    "In the next three cells configure, build, and run the `shape` executable."
   ]
  },
  {
   "cell_type": "code",
   "execution_count": null,
   "metadata": {},
   "outputs": [],
   "source": [
    "!mkdir -p build; cd build; rm -rf *; cmake -DCMAKE_INSTALL_PREFIX=/opt/SEP/local -DCMAKE_CXX_COMPILER=g++ -DCMAKE_CXX_FLAGS=-fPIC ../src"
   ]
  },
  {
   "cell_type": "code",
   "execution_count": null,
   "metadata": {},
   "outputs": [],
   "source": [
    "!cd build; make install;"
   ]
  },
  {
   "cell_type": "code",
   "execution_count": null,
   "metadata": {},
   "outputs": [],
   "source": [
    "!./build/draw"
   ]
  },
  {
   "cell_type": "markdown",
   "metadata": {},
   "source": [
    "# Part 1: Making a vector class (C++)\n",
    "\n",
    "Object-oriented programming has many advantages over functional programming. In applied sciences, one advantage of object-oriented programming is that we can take advantange of high-end optimization (inversion) libraries by following an object-oriented model.  In this exercise you will be building some of the building blocks necessary for this approach.\n",
    "\n",
    "The first abstract concept we will introduce is a vector.  A vector is a mathematical concept that can perform a set of operations. For this excerise we will limit ourselves to the following functions:\n",
    "  - `add(vec)` Element-wise addition of the contents of another vector to the current vector\n",
    "  - `scale(sc)` Scale a vector by a float\n",
    "  - `clone()` Make a copy of the current vector\n",
    "  - `checkSame(vec)` Checks whether another vector exists and is the same size as the current vector\n",
    "  - `dot(vec)` Calculate the dot product of the current vector with another vector\n",
    "  - `random()` Fill the current vector with random numbers\n",
    "\n",
    "In the next cell you fill find the abstract definition of the vector.\n"
   ]
  },
  {
   "cell_type": "code",
   "execution_count": null,
   "metadata": {},
   "outputs": [],
   "source": [
    "%cat src/lib/myVector.h"
   ]
  },
  {
   "cell_type": "markdown",
   "metadata": {},
   "source": [
    "We will derive a concrete class that use the C++ std vector for storage."
   ]
  },
  {
   "cell_type": "code",
   "execution_count": null,
   "metadata": {},
   "outputs": [],
   "source": [
    "%cat src/lib/stlVector.h"
   ]
  },
  {
   "cell_type": "markdown",
   "metadata": {},
   "source": [
    "Your job is to fill in the functions in the following cell to make a concrete class composed of std C++ vectors. Only two of the functions need additional work. "
   ]
  },
  {
   "cell_type": "code",
   "execution_count": null,
   "metadata": {},
   "outputs": [],
   "source": [
    "%%writefile src/lib/stlVector.cc\n",
    "#include \"stlVector.h\"\n",
    "#include <stdlib.h>\n",
    "#include <time.h>\n",
    "#include <cassert>\n",
    "\n",
    "stlVector::stlVector(const int n) { _vals.resize(n); }\n",
    "\n",
    "void stlVector::add(const std::shared_ptr<myVector> v2) {\n",
    "  // ------------------------\n",
    "  //  FILL IN THIS FUNCTION\n",
    "  // ------------------------\n",
    "}\n",
    "\n",
    "\n",
    "void stlVector::scale(const float sc) {\n",
    "  // ------------------------\n",
    "  //  FILL IN THIS FUNCTION\n",
    "  // ------------------------\n",
    "}\n",
    "\n",
    "std::shared_ptr<myVector> stlVector::clone() const {\n",
    "  std::shared_ptr<stlVector> v(new stlVector(_vals.size()));\n",
    "  for (auto i = 0; i < _vals.size(); i++) \n",
    "    v->_vals[i] = _vals[i];\n",
    "  return v;\n",
    "}\n",
    "            \n",
    "bool stlVector::checkSame(const std::shared_ptr<myVector> v2) const {\n",
    "  std::shared_ptr<stlVector> v = std::dynamic_pointer_cast<stlVector>(v2);\n",
    "  // Check to make sure the vectors are the same size\n",
    "  assert(v);\n",
    "  assert(v->_vals.size() == _vals.size());\n",
    "  return true;\n",
    "}\n",
    "    \n",
    "double stlVector::dot(const std::shared_ptr<myVector> v2) const {\n",
    "  checkSame(v2);\n",
    "  std::shared_ptr<stlVector> v = std::dynamic_pointer_cast<stlVector>(v2);\n",
    "  double dot = 0;\n",
    "  for (unsigned int i = 0; i < _vals.size(); i++)\n",
    "    dot += _vals[i] * v->_vals[i];\n",
    "  return dot;\n",
    "}\n",
    "    \n",
    "void stlVector::random() {\n",
    "  srand(time(0));\n",
    "  for (unsigned int i = 0; i < _vals.size(); i++)\n",
    "    _vals[i] = (float)rand() / RAND_MAX;\n",
    "}\n"
   ]
  },
  {
   "cell_type": "markdown",
   "metadata": {},
   "source": [
    "Once you are done, you will have to recompile and reload the library. You can use the next cell to see if your answer makes sense."
   ]
  },
  {
   "cell_type": "code",
   "execution_count": null,
   "metadata": {},
   "outputs": [],
   "source": [
    "# for auto-reloading external modules\n",
    "# see http://stackoverflow.com/questions/1907993/autoreload-of-modules-in-ipython\n",
    "%load_ext autoreload\n",
    "%autoreload 2\n",
    "\n",
    "%matplotlib inline\n",
    "import LabOOP\n",
    "import numpy\n",
    "import matplotlib.pyplot as plt\n",
    "\n",
    "v1 = LabOOP.stlVector(5)\n",
    "v2 = LabOOP.stlVector(5)\n",
    "\n",
    "vec1 = v1.getNdArray()\n",
    "vec2 = v2.getNdArray()\n",
    "\n",
    "for i in range(5):\n",
    "    vec1[i] = i / 2.\n",
    "    vec2[i] = 4 - i\n",
    "\n",
    "v3 = v1.clone()\n",
    "vec3 = v3.getNdArray()\n",
    "\n",
    "v3.scale(2.)\n",
    "v3.add(v2)\n",
    "\n",
    "plt.plot(vec1)\n",
    "plt.plot(vec2)\n",
    "plt.plot(vec3)"
   ]
  },
  {
   "cell_type": "markdown",
   "metadata": {},
   "source": [
    "# Part 2: Operator class\n",
    "\n",
    "In Python there is no equivalent to an abstract class but we can approximate its behavior by raising exceptions in the base class for functions that haven't been overridden.  Below you will find the abstract class for an operator. "
   ]
  },
  {
   "cell_type": "code",
   "execution_count": null,
   "metadata": {},
   "outputs": [],
   "source": [
    "import math\n",
    "\n",
    "class myOperator:\n",
    "    \"\"\"Generic operator class\"\"\"\n",
    "    def __init__(self):\n",
    "        pass;\n",
    "    \n",
    "    def setDomainRange(self, domainV, rangeV):\n",
    "        \"\"\"Set the domain and range vectors\"\"\"\n",
    "        self.domainV = domainV.clone()\n",
    "        self.rangeV = rangeV.clone()\n",
    "        \n",
    "    def checkDomainRange(self, mod, dat):\n",
    "        \"\"\"Check to make sure spaces match mod->domain dat->range\"\"\"\n",
    "        if not self.domainV.checkSame(mod):\n",
    "            raise Exception(\"Domain does not match\")\n",
    "        if not self.rangeV.checkSame(dat):\n",
    "            raise Exception(\"Range does not match\")\n",
    "            \n",
    "    def forward(self, add, model, data):\n",
    "        raise Exception(\"Must override forward\")\n",
    "        \n",
    "    def adjoint(self, add, model, data):\n",
    "        raise Exception(\"Must override adjoint\")\n",
    "        \n",
    "    def dotProduct(self):\n",
    "        x = self.domainV.clone()\n",
    "        x2 = self.domainV.clone()\n",
    "        y = self.rangeV.clone()\n",
    "        y2 = self.rangeV.clone()\n",
    "        x.rand()\n",
    "        y.rand()\n",
    "        self.forward(False, x, y2)\n",
    "        self.adjoint(False, x2, y)\n",
    "        if(math.abs(x.dot(x2) - y.dot(y2)) > 1e-4):\n",
    "            raise Exception(\"Does not pass product test\")\n",
    "    "
   ]
  },
  {
   "cell_type": "markdown",
   "metadata": {},
   "source": [
    "The abstract functions are the `forward` and `adjoint`. From what you have seen in the above sections you should be able to inherit from this class a concrete operator class (something that has a valid definition of the forward and adjoint). The class should take as inputs the stlVector class above and use the getNdArray function to turn them into numpy arrays that you can operate with in Python.   Write an operator of your choice (e.g. derivative, matrix multiply, etc) and use the `dotProduct` function to see if your `adjoint` is truly the adjoint of your `forward`."
   ]
  }
 ],
 "metadata": {
  "kernelspec": {
   "display_name": "Python 3",
   "language": "python",
   "name": "python3"
  },
  "language_info": {
   "codemirror_mode": {
    "name": "ipython",
    "version": 3
   },
   "file_extension": ".py",
   "mimetype": "text/x-python",
   "name": "python",
   "nbconvert_exporter": "python",
   "pygments_lexer": "ipython3",
<<<<<<< HEAD
   "version": "3.7.4"
  },
  "latex_envs": {
   "LaTeX_envs_menu_present": true,
   "autoclose": false,
   "autocomplete": true,
   "bibliofile": "biblio.bib",
   "cite_by": "apalike",
   "current_citInitial": 1,
   "eqLabelWithNumbers": true,
   "eqNumInitial": 1,
   "hotkeys": {
    "equation": "Ctrl-E",
    "itemize": "Ctrl-I"
   },
   "labels_anchors": false,
   "latex_user_defs": false,
   "report_style_numbering": false,
   "user_envs_cfg": false
  },
  "toc": {
   "base_numbering": 1,
   "nav_menu": {},
   "number_sections": true,
   "sideBar": true,
   "skip_h1_title": false,
   "title_cell": "Table of Contents",
   "title_sidebar": "Contents",
   "toc_cell": false,
   "toc_position": {},
   "toc_section_display": true,
   "toc_window_display": false
   "version": "3.7.1"
  }
 },
 "nbformat": 4,
 "nbformat_minor": 2
}
